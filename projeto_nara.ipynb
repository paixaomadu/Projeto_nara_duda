{
 "cells": [
  {
   "cell_type": "code",
   "execution_count": 5,
   "id": "fd07a6a6",
   "metadata": {},
   "outputs": [],
   "source": [
    "#Importação das bibliotecas __________________________________________________________________________________________________\n",
    "import pandas as pd\n",
    "import numpy as np\n",
    "import matplotlib.pyplot as plt"
   ]
  },
  {
   "cell_type": "code",
   "execution_count": 6,
   "id": "d00a8b68",
   "metadata": {},
   "outputs": [],
   "source": [
    "#  imoportação das bases via link do google drive ___________________________________________________________________________\n",
    "file_id_med = '1tu0E4Xqt7FeprldGQYI4uypcncIOwDHl' \n",
    "url_med = f'https://drive.google.com/uc?export=download&id={file_id_med}'\n",
    "\n",
    "file_id_paci = '1d-ZZjoFHCRym5tGei5cE05974uzPIuQT' \n",
    "url_paci = f'https://drive.google.com/uc?export=download&id={file_id_paci}'\n",
    "\n",
    "file_id_cli = '14w0KYUbEJicByKS7M3upVvWzXKLH8kzQ' \n",
    "url_cli = f'https://drive.google.com/uc?export=download&id={file_id_cli}'\n",
    "\n",
    "file_id_consul = '12bPlpo8oiaEOIuwQni1lKzc6fWKm7QfI' \n",
    "url_consul = f'https://drive.google.com/uc?export=download&id={file_id_consul}'\n",
    "\n",
    "file_id_avali = '1X5cWJUBa712NGzpR5THEU1T4xlEozfoh' \n",
    "url_avali = f'https://drive.google.com/uc?export=download&id={file_id_avali}'"
   ]
  },
  {
   "cell_type": "code",
   "execution_count": 7,
   "id": "f88063f7",
   "metadata": {},
   "outputs": [],
   "source": [
    "#importando todas as bases _________________________________________________________________________________________________\n",
    "df_med = pd.read_csv (url_med,sep=';', encoding='utf-8')\n",
    "df_paci = pd.read_csv (url_paci,sep=',', encoding='utf-8')\n",
    "df_cli = pd.read_csv (url_cli,sep=',', encoding='utf-8')\n",
    "df_consul = pd.read_csv (url_consul,sep=',', encoding='utf-8')\n",
    "df_avali = pd.read_csv (url_avali,sep=',', encoding='utf-8')"
   ]
  },
  {
   "cell_type": "code",
   "execution_count": 9,
   "id": "ef375d44",
   "metadata": {},
   "outputs": [],
   "source": [
    "# Filtra somente as consultas realizadas ___________________________________________________________________________________\n",
    "df_realizadas= df_consul.loc[df_consul['status'] == 'Realizada']"
   ]
  },
  {
   "cell_type": "code",
   "execution_count": 10,
   "id": "3521124c",
   "metadata": {},
   "outputs": [
    {
     "name": "stderr",
     "output_type": "stream",
     "text": [
      "C:\\Users\\Usuário\\AppData\\Local\\Temp\\ipykernel_15212\\130570820.py:2: UserWarning: Parsing dates in %Y-%m-%d %H:%M format when dayfirst=True was specified. Pass `dayfirst=False` or specify a format to silence this warning.\n",
      "  df_realizadas[\"data_hora_agendada\"] = pd.to_datetime(df_realizadas[\"data_hora_agendada\"], errors=\"coerce\", dayfirst=True)\n",
      "C:\\Users\\Usuário\\AppData\\Local\\Temp\\ipykernel_15212\\130570820.py:2: SettingWithCopyWarning: \n",
      "A value is trying to be set on a copy of a slice from a DataFrame.\n",
      "Try using .loc[row_indexer,col_indexer] = value instead\n",
      "\n",
      "See the caveats in the documentation: https://pandas.pydata.org/pandas-docs/stable/user_guide/indexing.html#returning-a-view-versus-a-copy\n",
      "  df_realizadas[\"data_hora_agendada\"] = pd.to_datetime(df_realizadas[\"data_hora_agendada\"], errors=\"coerce\", dayfirst=True)\n",
      "C:\\Users\\Usuário\\AppData\\Local\\Temp\\ipykernel_15212\\130570820.py:3: UserWarning: Parsing dates in %Y-%m-%d %H:%M format when dayfirst=True was specified. Pass `dayfirst=False` or specify a format to silence this warning.\n",
      "  df_realizadas[\"data_hora_inicio\"] = pd.to_datetime(df_realizadas[\"data_hora_inicio\"], errors=\"coerce\", dayfirst=True)\n",
      "C:\\Users\\Usuário\\AppData\\Local\\Temp\\ipykernel_15212\\130570820.py:3: SettingWithCopyWarning: \n",
      "A value is trying to be set on a copy of a slice from a DataFrame.\n",
      "Try using .loc[row_indexer,col_indexer] = value instead\n",
      "\n",
      "See the caveats in the documentation: https://pandas.pydata.org/pandas-docs/stable/user_guide/indexing.html#returning-a-view-versus-a-copy\n",
      "  df_realizadas[\"data_hora_inicio\"] = pd.to_datetime(df_realizadas[\"data_hora_inicio\"], errors=\"coerce\", dayfirst=True)\n",
      "C:\\Users\\Usuário\\AppData\\Local\\Temp\\ipykernel_15212\\130570820.py:6: SettingWithCopyWarning: \n",
      "A value is trying to be set on a copy of a slice from a DataFrame.\n",
      "Try using .loc[row_indexer,col_indexer] = value instead\n",
      "\n",
      "See the caveats in the documentation: https://pandas.pydata.org/pandas-docs/stable/user_guide/indexing.html#returning-a-view-versus-a-copy\n",
      "  df_realizadas['tempo_espera_min'] = ((df_realizadas['data_hora_inicio'] - df_realizadas['data_hora_agendada']).dt.total_seconds() / 60)\n"
     ]
    }
   ],
   "source": [
    "# Converte para datetime ___________________________________________________________________________________________________\n",
    "df_realizadas[\"data_hora_agendada\"] = pd.to_datetime(df_realizadas[\"data_hora_agendada\"], errors=\"coerce\", dayfirst=True)  \n",
    "df_realizadas[\"data_hora_inicio\"] = pd.to_datetime(df_realizadas[\"data_hora_inicio\"], errors=\"coerce\", dayfirst=True) \n",
    "\n",
    "# Criar uma coluna para tempo de espera e fazer o calculo da espera em minuto _______________________________________________\n",
    "df_realizadas['tempo_espera_min'] = ((df_realizadas['data_hora_inicio'] - df_realizadas['data_hora_agendada']).dt.total_seconds() / 60)"
   ]
  },
  {
   "cell_type": "code",
   "execution_count": 11,
   "id": "cd1c3cd8",
   "metadata": {},
   "outputs": [],
   "source": [
    "# Média e mediana por especialidade  _______________________________________________________________________________________\n",
    "\n",
    "# Cardiologia \n",
    "# Filtra somente cardiologia\n",
    "df_cardio= df_realizadas.loc[df_consul['especialidade'] == 'Cardiologia']\n",
    "\n",
    "#array\n",
    "array_cardio= df_cardio['tempo_espera_min']\n",
    "dados_cardio= np.array(array_cardio)\n",
    "\n",
    "#média, mediana e distância\n",
    "media_cardio= np.mean(dados_cardio)\n",
    "mediana_cardio= np.median(dados_cardio)\n",
    "distancia_cardio= (media_cardio - mediana_cardio) / mediana_cardio *100\n",
    "\n",
    "#quartil\n",
    "q1_cardio= np.percentile(dados_cardio, 25)\n",
    "q2_cardio= np.percentile(dados_cardio, 50)\n",
    "q3_cardio= np.percentile(dados_cardio, 75)\n",
    "\n",
    "#Intervalo de interquartil\n",
    "IQR= q3_cardio - q1_cardio\n",
    "\n",
    "#limite superior e inferior\n",
    "ls_cardio= q3_cardio + (1.5 * IQR)\n",
    "li_cardio= q1_cardio - (1.5 * IQR)"
   ]
  },
  {
   "cell_type": "code",
   "execution_count": 12,
   "id": "147634af",
   "metadata": {},
   "outputs": [],
   "source": [
    "# Dermatologia \n",
    "# Filtra somente dermatologia\n",
    "df_dermatologia= df_realizadas.loc[df_consul['especialidade'] == 'Dermatologia']\n",
    "\n",
    "#array\n",
    "array_dermatologia= df_dermatologia['tempo_espera_min']\n",
    "dados_dermatologia= np.array(array_dermatologia)\n",
    "\n",
    "#média, mediana e distância\n",
    "media_dermatologia= np.mean(dados_dermatologia)\n",
    "mediana_dermatologia= np.median(dados_dermatologia)\n",
    "distancia_dermatologia= (media_dermatologia - mediana_dermatologia) / mediana_dermatologia *100\n",
    "\n",
    "#quartil\n",
    "q1_dermatologia= np.percentile(dados_dermatologia, 25)\n",
    "q2_dermatologia= np.percentile(dados_dermatologia, 50)\n",
    "q3_dermatologia= np.percentile(dados_dermatologia, 75)\n",
    "\n",
    "#Intervalo de interquartil\n",
    "IQR= q3_dermatologia - q1_dermatologia\n",
    "\n",
    "#limite superior e inferior\n",
    "ls_dermatologia= q3_dermatologia + (1.5 * IQR)\n",
    "li_dermatologia= q1_dermatologia - (1.5 * IQR)\n"
   ]
  },
  {
   "cell_type": "code",
   "execution_count": 13,
   "id": "a2c1d339",
   "metadata": {},
   "outputs": [],
   "source": [
    "# Ginecologia \n",
    "# Filtra somente ginecologia\n",
    "df_ginecologia= df_realizadas.loc[df_consul['especialidade'] == 'Ginecologia']\n",
    "\n",
    "#array\n",
    "array_ginecologia= df_ginecologia['tempo_espera_min']\n",
    "dados_ginecologia= np.array(array_ginecologia)\n",
    "\n",
    "#média, mediana e distância\n",
    "media_ginecologia= np.mean(dados_ginecologia)\n",
    "mediana_ginecologia= np.median(dados_ginecologia)\n",
    "distancia_ginecologia= (media_ginecologia - mediana_ginecologia) / mediana_ginecologia *100\n",
    "\n",
    "#quartil\n",
    "q1_ginecologia= np.percentile(dados_ginecologia, 25)\n",
    "q2_ginecologia= np.percentile(dados_ginecologia, 50)\n",
    "q3_ginecologia= np.percentile(dados_ginecologia, 75)\n",
    "\n",
    "#Intervalo de interquartil\n",
    "IQR= q3_ginecologia - q1_ginecologia\n",
    "\n",
    "#limite superior e inferior\n",
    "ls_ginecologia= q3_ginecologia + (1.5 * IQR)\n",
    "li_ginecologia= q1_ginecologia - (1.5 * IQR)"
   ]
  },
  {
   "cell_type": "code",
   "execution_count": 14,
   "id": "f6640592",
   "metadata": {},
   "outputs": [],
   "source": [
    "# Neurologia \n",
    "# Filtra somente neurologia\n",
    "df_neurologia= df_realizadas.loc[df_consul['especialidade'] == 'Neurologia']\n",
    "\n",
    "#array\n",
    "array_neurologia= df_neurologia['tempo_espera_min']\n",
    "dados_neurologia= np.array(array_neurologia)\n",
    "\n",
    "#média, mediana e distância\n",
    "media_neurologia= np.mean(dados_neurologia)\n",
    "mediana_neurologia= np.median(dados_neurologia)\n",
    "distancia_neurologia= (media_neurologia - mediana_neurologia) / mediana_neurologia *100\n",
    "\n",
    "#quartil\n",
    "q1_neurologia= np.percentile(dados_neurologia, 25)\n",
    "q2_neurologia= np.percentile(dados_neurologia, 50)\n",
    "q3_neurologia= np.percentile(dados_neurologia, 75)\n",
    "\n",
    "#Intervalo de interquartil\n",
    "IQR= q3_neurologia - q1_neurologia\n",
    "\n",
    "#limite superior e inferior\n",
    "ls_neurologia= q3_neurologia + (1.5 * IQR)\n",
    "li_neurologia= q1_neurologia - (1.5 * IQR)"
   ]
  },
  {
   "cell_type": "code",
   "execution_count": 15,
   "id": "4af80e9e",
   "metadata": {},
   "outputs": [],
   "source": [
    "# Ortopedia \n",
    "# Filtra somente ortopedia\n",
    "df_ortopedia= df_realizadas.loc[df_consul['especialidade'] == 'Ortopedia']\n",
    "\n",
    "#array\n",
    "array_ortopedia= df_ortopedia['tempo_espera_min']\n",
    "dados_ortopedia= np.array(array_ortopedia)\n",
    "\n",
    "#média, mediana e distância\n",
    "media_ortopedia= np.mean(dados_ortopedia)\n",
    "mediana_ortopedia= np.median(dados_ortopedia)\n",
    "distancia_ortopedia= (media_ortopedia - mediana_ortopedia) / mediana_ortopedia *100\n",
    "\n",
    "#quartil\n",
    "q1_ortopedia= np.percentile(dados_ortopedia, 25)\n",
    "q2_ortopedia= np.percentile(dados_ortopedia, 50)\n",
    "q3_ortopedia= np.percentile(dados_ortopedia, 75)\n",
    "\n",
    "#Intervalo de interquartil\n",
    "IQR= q3_ortopedia - q1_ortopedia\n",
    "\n",
    "#limite superior e inferior\n",
    "ls_ortopedia= q3_ortopedia + (1.5 * IQR)\n",
    "li_ortopedia= q1_ortopedia - (1.5 * IQR)"
   ]
  },
  {
   "cell_type": "code",
   "execution_count": 16,
   "id": "a4a4d5d8",
   "metadata": {},
   "outputs": [],
   "source": [
    "# Pediatria \n",
    "# Filtra somente pediatria\n",
    "df_pediatria= df_realizadas.loc[df_consul['especialidade'] == 'Pediatria']\n",
    "\n",
    "#array\n",
    "array_pediatria= df_pediatria['tempo_espera_min']\n",
    "dados_pediatria= np.array(array_pediatria)\n",
    "\n",
    "#média, mediana e distância\n",
    "media_pediatria= np.mean(dados_pediatria)\n",
    "mediana_pediatria= np.median(dados_pediatria)\n",
    "distancia_pediatria= (media_pediatria - mediana_pediatria) / mediana_pediatria *100\n",
    "\n",
    "#quartil\n",
    "q1_pediatria= np.percentile(dados_pediatria, 25)\n",
    "q2_pediatria= np.percentile(dados_pediatria, 50)\n",
    "q3_pediatria= np.percentile(dados_pediatria, 75)\n",
    "\n",
    "#Intervalo de interquartil\n",
    "IQR= q3_pediatria - q1_pediatria\n",
    "\n",
    "#limite superior e inferior\n",
    "ls_pediatria= q3_pediatria + (1.5 * IQR)\n",
    "li_pediatria= q1_pediatria - (1.5 * IQR)"
   ]
  },
  {
   "cell_type": "code",
   "execution_count": 17,
   "id": "5f92a4f0",
   "metadata": {},
   "outputs": [],
   "source": [
    "# Média e mediana por medico  _______________________________________________________________________________________\n",
    "# Pd merge para juntar o df de medico e de tempo\n",
    "df_med_merge = pd.merge(df_med, df_realizadas, on='id_medico', how='inner')"
   ]
  },
  {
   "cell_type": "code",
   "execution_count": 18,
   "id": "12ffd06e",
   "metadata": {},
   "outputs": [],
   "source": [
    "# Média, mediana e distância\n",
    "df_med_media = df_med_merge.groupby('nome')['tempo_espera_min'].mean().round(1).reset_index()\n",
    "df_med_mediana= df_med_merge.groupby('nome')['tempo_espera_min'].median().reset_index()\n",
    "# Junta média e mediana em um df para criar uma tabela com media, mediana e distancia\n",
    "df_distancia = pd.merge(df_med_media, df_med_mediana, on='nome', suffixes=('_media', '_mediana')) #suffixer para renomear as colunas\n",
    "df_distancia['distancia'] = (df_distancia['tempo_espera_min_media'] - df_distancia['tempo_espera_min_mediana']).abs().round(2) #abs para trazer valor absoluto\n"
   ]
  },
  {
   "cell_type": "code",
   "execution_count": 19,
   "id": "94e45eec",
   "metadata": {},
   "outputs": [
    {
     "name": "stdout",
     "output_type": "stream",
     "text": [
      "                    nome  tempo_espera_min_media  tempo_espera_min_mediana  \\\n",
      "58  Dr(a). Ricardo Souza                    73.1                      30.0   \n",
      "\n",
      "    distancia  \n",
      "58       43.1  \n"
     ]
    }
   ],
   "source": [
    "# Função para mostrar os dados do médico\n",
    "def buscar_medico(nome):\n",
    "    resultado = df_distancia.loc[df_distancia['nome'] == nome ]\n",
    "    print(resultado)\n",
    "\n",
    "buscar_medico(\"Dr(a). Ricardo Souza\") #medico usado como exemplo"
   ]
  },
  {
   "cell_type": "code",
   "execution_count": 28,
   "id": "1cf63584",
   "metadata": {},
   "outputs": [],
   "source": [
    "#outliers do medico, consertar amanha\n",
    "def buscar_outliers_medico(nome):\n",
    "    # Filtra os dados do médico\n",
    "    df_filtro_unitario = df_med_merge.loc[df_med_merge['nome'] == nome]\n",
    "\n",
    "    if df_filtro_unitario.empty:\n",
    "        print(f\"Médico '{nome}' não encontrado.\")\n",
    "        return\n",
    "    else: \n",
    "        print(f\"Médico '{nome}' encontrado.\")\n",
    "\n",
    "    # criando o array\n",
    "    dados_med= np.array(df_filtro_unitario['tempo_espera_min'])\n",
    "\n",
    "    # Calcula Q1, Q3 e IQR\n",
    "    q1 = np.percentile(dados_med, 25)\n",
    "    q3 = np.percentile(dados_med,75)\n",
    "    iqr = q3 - q1\n",
    "\n",
    "    limite_inferior = q1 - (1.5 * iqr)\n",
    "    limite_superior = q3 + (1.5 * iqr)\n",
    "\n",
    "    # Filtra as linhas que são outliers\n",
    "    outliers = df_filtro_unitario[(df_filtro_unitario['tempo_espera_min'] < limite_inferior) |(df_filtro_unitario['tempo_espera_min'] > limite_superior)]\n",
    "\n",
    "    # Retorna os resultados\n",
    "    if outliers.empty:\n",
    "        print(f\"Nenhum outlier encontrado para o médico '{nome}'.\")\n",
    "    else:\n",
    "        print(f\"Outliers encontrados para o médico '{nome}':\")\n",
    "        print(outliers.to_string(index=False))"
   ]
  },
  {
   "cell_type": "code",
   "execution_count": 29,
   "id": "f0ac6c34",
   "metadata": {},
   "outputs": [
    {
     "name": "stdout",
     "output_type": "stream",
     "text": [
      "Médico 'Dr(a). Ricardo Souza' encontrado.\n",
      "Outliers encontrados para o médico 'Dr(a). Ricardo Souza':\n",
      " id_medico                 nome especialidade_x  id_consulta  id_paciente  id_clinica especialidade_y  data_hora_agendada    data_hora_inicio    status  tempo_espera_min\n",
      "         2 Dr(a). Ricardo Souza       Pediatria         1273           33          95       Pediatria 2023-02-10 14:44:00 2023-02-10 19:44:00 Realizada             300.0\n",
      "         2 Dr(a). Ricardo Souza       Pediatria         4825           15          83       Pediatria 2023-12-08 02:22:00 2023-12-08 07:22:00 Realizada             300.0\n"
     ]
    }
   ],
   "source": [
    "buscar_outliers_medico(\"Dr(a). Ricardo Souza\")\n"
   ]
  },
  {
   "cell_type": "code",
   "execution_count": 31,
   "id": "18cc9b6c",
   "metadata": {},
   "outputs": [],
   "source": [
    "# Média e mediana por clínica _______________________________________________________________________________________\n",
    "# Pd merge para juntar o df de medico e de tempo\n",
    "df_cli_merge = pd.merge(df_cli, df_realizadas, on='id_clinica', how='inner')\n",
    "\n",
    "# Média, mediana e distância\n",
    "df_cli_media = df_cli_merge.groupby('nome')['tempo_espera_min'].mean().round(1).reset_index()\n",
    "df_cli_mediana= df_cli_merge.groupby('nome')['tempo_espera_min'].median().reset_index()\n",
    "# Junta média e mediana em um df para criar uma tabela com media, mediana e distancia\n",
    "df_distancia_cli= pd.merge(df_cli_media, df_cli_mediana, on='nome', suffixes=('_media', '_mediana')) #suffixer para renomear as colunas\n",
    "df_distancia_cli['distancia'] = (df_distancia_cli['tempo_espera_min_media'] - df_distancia_cli['tempo_espera_min_mediana']).abs().round(2) #abs para trazer valor absoluto"
   ]
  },
  {
   "cell_type": "code",
   "execution_count": null,
   "id": "61fdecd9",
   "metadata": {},
   "outputs": [],
   "source": [
    "# Função para mostrar os dados da clínica\n",
    "def buscar_clinica(nome):\n",
    "    resultado = df_distancia_cli.loc[df_distancia_cli['nome'] == nome ]\n",
    "    print(resultado)\n"
   ]
  },
  {
   "cell_type": "code",
   "execution_count": 37,
   "id": "6ac60336",
   "metadata": {},
   "outputs": [],
   "source": [
    "#Função para mostrar os outliers da clinica\n",
    "def buscar_outliers_clinica(nome):\n",
    "\n",
    "    # Filtra os dados da clinica\n",
    "    df_filtro_unitario = df_cli_merge[df_cli_merge['nome'] == nome]\n",
    "\n",
    "    if df_filtro_unitario.empty:\n",
    "        print(f\"Médico '{nome}' não encontrado.\")\n",
    "        return\n",
    "    \n",
    "    # criando o array\n",
    "    dados_clinica= np.array(df_filtro_unitario['tempo_espera_min'])\n",
    "\n",
    "    # Q1, Q3 e IQR\n",
    "    q1 = np.percentile(dados_clinica,25) \n",
    "    q3 = np.percentile(dados_clinica,75)\n",
    "    iqr = q3 - q1\n",
    "\n",
    "    limite_inferior = q1 - 1.5 * iqr\n",
    "    limite_superior = q3 + 1.5 * iqr\n",
    "\n",
    "    # Filtra as linhas que são outliers\n",
    "    outliers = df_filtro_unitario[(df_filtro_unitario['tempo_espera_min'] < limite_inferior) |(df_filtro_unitario['tempo_espera_min'] > limite_superior)]\n",
    "\n",
    "    # resultado\n",
    "    if outliers.empty:\n",
    "        print(f\"Nenhum outlier encontrado para a clinica '{nome}'.\")\n",
    "    else:\n",
    "        print(f\"Outliers encontrados para a clinica '{nome}':\")\n",
    "        print(outliers.to_string(index=False))"
   ]
  },
  {
   "cell_type": "code",
   "execution_count": 42,
   "id": "a9288724",
   "metadata": {},
   "outputs": [],
   "source": [
    "#correlacao entre tempo de espera e satisfacao\n",
    "df_tempo_espera = df_realizadas.groupby('id_consulta')['tempo_espera_min'].sum().reset_index()\n",
    "df_tempo_espera = df_realizadas.sort_values(by='tempo_espera_min', ascending= False)\n",
    "df_nota_satisfacao = df_avali.groupby('id_consulta')['nota_satisfacao'].sum().reset_index()\n",
    "df_nota_satisfacao = df_nota_satisfacao.sort_values(by='nota_satisfacao', ascending= True)"
   ]
  },
  {
   "cell_type": "code",
   "execution_count": null,
   "id": "fb776a89",
   "metadata": {},
   "outputs": [],
   "source": [
    "#fazer um pd merge inner para juntar as tabelas\n",
    "tempo_espera_satisfacao = pd.merge(df_tempo_espera, df_nota_satisfacao, on = 'id_consulta', how= 'inner')"
   ]
  },
  {
   "cell_type": "code",
   "execution_count": 47,
   "id": "0ffc5665",
   "metadata": {},
   "outputs": [
    {
     "data": {
      "text/plain": [
       "Text(0, 0.5, 'nota_satisfacao')"
      ]
     },
     "execution_count": 47,
     "metadata": {},
     "output_type": "execute_result"
    },
    {
     "data": {
      "image/png": "[encoded data removed]",
      "text/plain": [
       "<Figure size 800x600 with 1 Axes>"
      ]
     },
     "metadata": {},
     "output_type": "display_data"
    }
   ],
   "source": [
    "# Gráfico de dispersão\n",
    "plt.figure(figsize=(8, 6))\n",
    "plt.scatter(tempo_espera_satisfacao['tempo_espera_min'], tempo_espera_satisfacao['nota_satisfacao'], color='blue')\n",
    "plt.title('Correlação entre tempo de espera e nota de satisfação')\n",
    "plt.xlabel('tempo_espera_min')\n",
    "plt.ylabel('nota_satisfacao')"
   ]
  }
 ],
 "metadata": {
  "kernelspec": {
   "display_name": "Python 3",
   "language": "python",
   "name": "python3"
  },
  "language_info": {
   "codemirror_mode": {
    "name": "ipython",
    "version": 3
   },
   "file_extension": ".py",
   "mimetype": "text/x-python",
   "name": "python",
   "nbconvert_exporter": "python",
   "pygments_lexer": "ipython3",
   "version": "3.11.9"
  }
 },
 "nbformat": 4,
 "nbformat_minor": 5
}
